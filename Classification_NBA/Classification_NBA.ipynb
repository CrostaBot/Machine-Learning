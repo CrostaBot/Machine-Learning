{
 "cells": [
  {
   "cell_type": "markdown",
   "metadata": {},
   "source": [
    "# Classification of NBA players role\n",
    "\n",
    "## IMPORTANT: make sure to rerun all the code from the beginning to obtain the results for the final version of your notebook, since this is the way we will do it before evaluting your notebook!\n",
    "\n",
    "### Dataset description\n",
    "\n",
    "We will be working with a dataset of NBA basketball players data (you can get from https://www.kaggle.com/jacobbaruch/nba-player-of-the-week the full dataset).\n",
    "\n",
    "The provided data is a subset of the full dataset containing the players that have the role of Center and of Point Guard. For each player the dataset contains the height, weight and age.\n",
    "\n",
    "From Wikipedia:\n",
    "\n",
    "The Center (C), also known as the five, or the big man, is one of the five positions in a regular basketball game. The center is normally the tallest player on the team, and often has a great deal of strength and body mass as well. In the NBA, the center is usually 6' 10\" (2.08 m) or taller and usually weighs 240 lbs (109 kg) or more. \n",
    "\n",
    "Point Guards (PG, a.k.a. as \"play maker\") are expected to run the team's offense by controlling the ball and making sure that it gets to the right players at the right time. In the NBA, point guards are usually about 6' 3\" (1.93 m) or shorter, and average about 6' 2\" (1.88 m). Having above-average size (height, muscle) is considered advantageous, although size is secondary to situational awareness, speed, quickness, and ball handling skills. Shorter players tend to be better dribblers since they are closer to the floor, and thus have better control of the ball while dribbling. \n",
    "\n",
    "As it is clear from the description, the height and weight of the player are good hints to predict their role and in this lab we'll exploit these features to estimate the role.\n",
    "\n",
    "\n",
    "### Three features are present in this dataset:\n",
    "\n",
    "\n",
    "1) Height in cm\n",
    "\n",
    "2) Weight in kg\n",
    "\n",
    "3) Age in years\n",
    "\n"
   ]
  },
  {
   "cell_type": "markdown",
   "metadata": {},
   "source": [
    "We first import all the packages that are needed."
   ]
  },
  {
   "cell_type": "code",
   "execution_count": 98,
   "metadata": {},
   "outputs": [],
   "source": [
    "%matplotlib inline\n",
    "import matplotlib.pyplot as plt\n",
    "import csv\n",
    "\n",
    "import numpy as np\n",
    "import scipy as sp\n",
    "import sklearn as sl\n",
    "from scipy import stats\n",
    "from sklearn import datasets\n",
    "from sklearn import linear_model"
   ]
  },
  {
   "cell_type": "markdown",
   "metadata": {},
   "source": [
    "# Perceptron\n",
    "We will implement the perceptron and use it to learn a halfspace."
   ]
  },
  {
   "cell_type": "markdown",
   "metadata": {},
   "source": [
    "**TO DO** Set the random seed to your ID (matricola)."
   ]
  },
  {
   "cell_type": "code",
   "execution_count": 99,
   "metadata": {},
   "outputs": [],
   "source": [
    "IDnumber = 1206748\n",
    "np.random.seed(IDnumber)"
   ]
  },
  {
   "cell_type": "markdown",
   "metadata": {},
   "source": [
    "Load the dataset and then split in training set and test set (50%-50%) after applying a random permutation to the datset."
   ]
  },
  {
   "cell_type": "code",
   "execution_count": 102,
   "metadata": {},
   "outputs": [
    {
     "name": "stdout",
     "output_type": "stream",
     "text": [
      "['Position', 'Height cm', 'kg', 'Age']\n",
      "[[210 114]\n",
      " [192  85]\n",
      " [231 139]\n",
      " [210 114]\n",
      " [182  78]\n",
      " [195  94]\n",
      " [213 128]\n",
      " [192  85]\n",
      " [185  81]\n",
      " [185  81]\n",
      " [219 117]\n",
      " [216 117]\n",
      " [213 109]\n",
      " [213 128]\n",
      " [186 125]\n",
      " [210 114]\n",
      " [186 103]\n",
      " [192  90]\n",
      " [198  85]\n",
      " [216 112]\n",
      " [219 117]\n",
      " [185  81]\n",
      " [216 146]\n",
      " [213 114]\n",
      " [216 112]\n",
      " [182  78]\n",
      " [231 139]\n",
      " [231 139]\n",
      " [216 112]\n",
      " [182  78]\n",
      " [186 121]\n",
      " [213 114]\n",
      " [213 114]\n",
      " [195  94]\n",
      " [192  76]\n",
      " [182  78]\n",
      " [225 112]\n",
      " [198  85]\n",
      " [186 119]\n",
      " [213 108]\n",
      " [219 117]\n",
      " [185  88]\n",
      " [210  94]\n",
      " [182  78]\n",
      " [213 117]\n",
      " [186 119]\n",
      " [186 119]\n",
      " [219 117]\n",
      " [185 126]\n",
      " [195  94]\n",
      " [216 112]\n",
      " [219 117]\n",
      " [216 114]\n",
      " [186 121]\n",
      " [195  94]\n",
      " [216 146]\n",
      " [186 119]\n",
      " [182  78]\n",
      " [216 112]\n",
      " [210 114]\n",
      " [185 126]\n",
      " [186 119]\n",
      " [216 146]\n",
      " [213 114]\n",
      " [186 119]\n",
      " [195  94]\n",
      " [195  94]\n",
      " [216 112]\n",
      " [195  94]\n",
      " [155  73]\n",
      " [185  76]\n",
      " [186 119]\n",
      " [216 112]\n",
      " [213 120]\n",
      " [186 119]\n",
      " [213 110]\n",
      " [155  81]\n",
      " [210 117]\n",
      " [155  87]\n",
      " [182  78]\n",
      " [186 119]\n",
      " [192  90]\n",
      " [186 119]\n",
      " [213 114]\n",
      " [182  75]\n",
      " [185 126]\n",
      " [192  90]\n",
      " [182  78]\n",
      " [182  78]\n",
      " [213 110]\n",
      " [213 114]\n",
      " [216 146]\n",
      " [210 114]\n",
      " [195  94]\n",
      " [195  94]\n",
      " [213 108]\n",
      " [213 110]\n",
      " [192  90]\n",
      " [213 108]\n",
      " [192  90]\n",
      " [195  94]\n",
      " [216 112]\n",
      " [186 119]\n",
      " [185  76]\n",
      " [195  94]\n",
      " [216 146]\n",
      " [216 146]\n",
      " [195  94]\n",
      " [192  85]\n",
      " [195  94]\n",
      " [213 108]\n",
      " [185  81]\n",
      " [182  78]\n",
      " [204  87]\n",
      " [216 146]\n",
      " [219 117]\n",
      " [213 103]\n",
      " [210 126]\n",
      " [185 108]\n",
      " [210 114]\n",
      " [185 108]\n",
      " [216 146]\n",
      " [185 108]\n",
      " [210 114]\n",
      " [182  78]\n",
      " [186 121]\n",
      " [186 103]\n",
      " [195  94]\n",
      " [216 112]\n",
      " [185  88]\n",
      " [216 112]\n",
      " [213 117]\n",
      " [213 114]\n",
      " [213 114]\n",
      " [213 108]\n",
      " [185 108]\n",
      " [185  88]\n",
      " [185  76]\n",
      " [182  78]\n",
      " [195  94]\n",
      " [185  81]\n",
      " [213 114]\n",
      " [192  76]\n",
      " [182  78]\n",
      " [213 108]\n",
      " [192  90]\n",
      " [185  76]\n",
      " [192  85]\n",
      " [186 103]\n",
      " [225 112]\n",
      " [219 101]\n",
      " [195  94]\n",
      " [216 146]\n",
      " [185 108]\n",
      " [210 114]\n",
      " [155  87]\n",
      " [185  96]\n",
      " [219 117]\n",
      " [186 119]\n",
      " [195  94]\n",
      " [204  87]\n",
      " [213 119]\n",
      " [185  88]\n",
      " [185  81]\n",
      " [185  76]\n",
      " [192  76]\n",
      " [216 146]\n",
      " [192  85]\n",
      " [213 114]\n",
      " [186 108]\n",
      " [213 120]\n",
      " [219 117]\n",
      " [216 146]\n",
      " [216 112]\n",
      " [192  90]\n",
      " [182  78]\n",
      " [186 119]\n",
      " [186 119]\n",
      " [185 108]\n",
      " [216 146]\n",
      " [155  81]\n",
      " [186 108]\n",
      " [182  76]\n",
      " [210 114]\n",
      " [213 108]\n",
      " [231 139]\n",
      " [210 114]\n",
      " [213 117]\n",
      " [222 117]\n",
      " [182  74]\n",
      " [185  85]\n",
      " [216 146]\n",
      " [195  94]\n",
      " [188  87]\n",
      " [182  67]\n",
      " [186 119]\n",
      " [182  78]\n",
      " [216 146]\n",
      " [231 139]\n",
      " [182  78]\n",
      " [216 112]\n",
      " [185  83]\n",
      " [216 146]\n",
      " [185  76]\n",
      " [186 119]\n",
      " [219 117]\n",
      " [195  94]\n",
      " [213 108]\n",
      " [213 108]\n",
      " [185  81]\n",
      " [186 121]\n",
      " [182  78]\n",
      " [185 126]\n",
      " [222 125]\n",
      " [213 108]\n",
      " [201  85]\n",
      " [213 128]\n",
      " [213 108]\n",
      " [213 119]\n",
      " [192  78]\n",
      " [216 146]\n",
      " [186 119]\n",
      " [231 139]\n",
      " [186 119]\n",
      " [155  73]\n",
      " [216 112]\n",
      " [216 112]\n",
      " [216 146]\n",
      " [195  94]\n",
      " [192  90]\n",
      " [188  83]\n",
      " [185  88]\n",
      " [185  81]\n",
      " [185  81]\n",
      " [216 146]\n",
      " [216 146]\n",
      " [188  83]\n",
      " [186 116]\n",
      " [210 114]\n",
      " [213 114]\n",
      " [213 120]\n",
      " [182  78]\n",
      " [216 112]\n",
      " [210 114]\n",
      " [179  83]\n",
      " [213 108]\n",
      " [185  96]\n",
      " [216 146]\n",
      " [185 126]\n",
      " [179  83]\n",
      " [182  76]\n",
      " [192  76]\n",
      " [195  94]\n",
      " [185 108]\n",
      " [185 108]\n",
      " [213 103]\n",
      " [213 114]\n",
      " [195  94]\n",
      " [185  81]\n",
      " [179  83]]\n"
     ]
    }
   ],
   "source": [
    "# load the dataset\n",
    "filename = 'NBA.csv'\n",
    "NBA = csv.reader(open(filename, newline=''), delimiter=',')\n",
    "\n",
    "header = next(NBA) #skip first line\n",
    "print(header)\n",
    "\n",
    "dataset = list(NBA)\n",
    "for i in range(len(dataset)):\n",
    "    dataset[i] = [int(x) for x in dataset[i]]\n",
    "    \n",
    "dataset = np.asarray(dataset)\n",
    "\n",
    "X = dataset[:,1:3]\n",
    "Y = dataset[:,0]\n",
    "\n",
    "Y = Y*2-1  # set labels to -1, 1 as required by perceptron implementation\n",
    "\n",
    "m = dataset.shape[0]\n",
    "permutation = np.random.permutation(m)\n",
    "\n",
    "X = X[permutation]\n",
    "Y = Y[permutation]\n",
    "\n",
    "print(X)"
   ]
  },
  {
   "cell_type": "markdown",
   "metadata": {},
   "source": [
    "We are going to classify class \"1\" (Center) vs class \"-1\" (Point Guard)"
   ]
  },
  {
   "cell_type": "markdown",
   "metadata": {},
   "source": [
    "**TO DO** Divide the data into training set and test set (50% of the data each)"
   ]
  },
  {
   "cell_type": "code",
   "execution_count": 90,
   "metadata": {},
   "outputs": [
    {
     "name": "stdout",
     "output_type": "stream",
     "text": [
      "130\n",
      "130\n"
     ]
    }
   ],
   "source": [
    "# Divide in training and test: make sure that your training set\n",
    "# contains at least 10 elements from class 1 and at least 10 elements\n",
    "# from class -1! If it does not, modify the code so to apply more random\n",
    "# permutations (or the same permutation multiple times) until this happens.\n",
    "# IMPORTANT: do not change the random seed.\n",
    "\n",
    "# m_training needs to be the number of samples in the training set\n",
    "m_training = m//2\n",
    "print(m_training)\n",
    "\n",
    "# m_test needs to be the number of samples in the test set\n",
    "m_test = m//2\n",
    "print(m_test)"
   ]
  },
  {
   "cell_type": "code",
   "execution_count": 91,
   "metadata": {},
   "outputs": [
    {
     "name": "stdout",
     "output_type": "stream",
     "text": [
      "[ 1  1  1  1  1 -1 -1 -1  1  1  1 -1  1 -1  1 -1 -1  1 -1 -1 -1 -1 -1  1\n",
      " -1  1 -1  1  1  1  1  1 -1  1 -1 -1  1  1 -1 -1  1  1  1  1 -1  1  1  1\n",
      " -1 -1 -1 -1 -1  1  1  1  1  1 -1 -1 -1 -1  1  1 -1 -1  1  1  1  1  1  1\n",
      "  1  1  1 -1  1 -1  1 -1 -1  1  1  1 -1  1 -1  1 -1 -1  1  1  1  1  1 -1\n",
      "  1 -1  1 -1  1  1 -1  1 -1  1  1 -1  1 -1  1  1  1 -1  1  1  1  1 -1  1\n",
      "  1  1 -1  1 -1 -1  1 -1 -1 -1]\n"
     ]
    }
   ],
   "source": [
    "# Divide in training and test: make sure that your training set\n",
    "# contains at least 10 elements from class 1 and at least 10 elements\n",
    "# from class -1! If it does not, modify the code so to apply more random\n",
    "# permutations (or the same permutation multiple times) until this happens.\n",
    "# IMPORTANT: do not change the random seed.\n",
    "\n",
    "# m_training needs to be the number of samples in the training set\n",
    "m_training = m//2\n",
    "\n",
    "# m_test needs to be the number of samples in the test set\n",
    "m_test = m//2\n",
    "\n",
    "# X_training = instances for training set\n",
    "X_training = X[:m_training,:]\n",
    "# Y_training = labels for the training set\n",
    "Y_training = Y[:m_training]\n",
    "\n",
    "# X_test = instances for test set\n",
    "X_test = X[m_test:m,:]\n",
    "# Y_test = labels for the test set\n",
    "Y_test = Y[m_test:m]\n",
    "\n",
    "print(Y_training) #to make sure that Y_training contains both 1 and -1"
   ]
  },
  {
   "cell_type": "markdown",
   "metadata": {},
   "source": [
    "**TO DO** Now add a 1 in front of each sample so that we can use a vector to describe all the coefficients of the model (homogeneous coordinates). You can use the function $hstack$ in $numpy$"
   ]
  },
  {
   "cell_type": "code",
   "execution_count": 92,
   "metadata": {},
   "outputs": [
    {
     "name": "stdout",
     "output_type": "stream",
     "text": [
      "[[  1. 186. 119.]\n",
      " [  1. 213. 128.]\n",
      " [  1. 213. 119.]\n",
      " [  1. 213. 114.]\n",
      " [  1. 216. 112.]\n",
      " [  1. 185.  81.]\n",
      " [  1. 182.  78.]\n",
      " [  1. 185.  85.]\n",
      " [  1. 219. 117.]\n",
      " [  1. 213. 103.]\n",
      " [  1. 213. 114.]\n",
      " [  1. 185.  88.]\n",
      " [  1. 186. 121.]\n",
      " [  1. 210. 114.]\n",
      " [  1. 216. 112.]\n",
      " [  1. 210. 114.]\n",
      " [  1. 195.  94.]\n",
      " [  1. 216. 146.]\n",
      " [  1. 192.  76.]\n",
      " [  1. 182.  78.]\n",
      " [  1. 195.  94.]\n",
      " [  1. 195.  94.]\n",
      " [  1. 182.  75.]\n",
      " [  1. 186. 119.]\n",
      " [  1. 185.  83.]\n",
      " [  1. 186. 119.]\n",
      " [  1. 185.  81.]\n",
      " [  1. 216. 117.]\n",
      " [  1. 186. 121.]\n",
      " [  1. 213. 108.]\n",
      " [  1. 216. 146.]\n",
      " [  1. 186. 108.]\n",
      " [  1. 192.  76.]\n",
      " [  1. 219. 101.]\n",
      " [  1. 195.  94.]\n",
      " [  1. 195.  94.]\n",
      " [  1. 185. 126.]\n",
      " [  1. 186. 103.]\n",
      " [  1. 210. 114.]\n",
      " [  1. 195.  94.]\n",
      " [  1. 186. 119.]\n",
      " [  1. 185. 108.]\n",
      " [  1. 213. 128.]\n",
      " [  1. 216. 112.]\n",
      " [  1. 182.  78.]\n",
      " [  1. 185. 108.]\n",
      " [  1. 231. 139.]\n",
      " [  1. 216. 146.]\n",
      " [  1. 210. 114.]\n",
      " [  1. 192.  85.]\n",
      " [  1. 182.  78.]\n",
      " [  1. 182.  78.]\n",
      " [  1. 195.  94.]\n",
      " [  1. 219. 117.]\n",
      " [  1. 216. 112.]\n",
      " [  1. 216. 112.]\n",
      " [  1. 213. 114.]\n",
      " [  1. 213. 114.]\n",
      " [  1. 192.  85.]\n",
      " [  1. 195.  94.]\n",
      " [  1. 185.  76.]\n",
      " [  1. 185.  88.]\n",
      " [  1. 213. 114.]\n",
      " [  1. 216. 146.]\n",
      " [  1. 185.  81.]\n",
      " [  1. 188.  83.]\n",
      " [  1. 213. 103.]\n",
      " [  1. 213. 114.]\n",
      " [  1. 213. 108.]\n",
      " [  1. 216. 112.]\n",
      " [  1. 219. 117.]\n",
      " [  1. 185. 126.]\n",
      " [  1. 216. 112.]\n",
      " [  1. 213. 108.]\n",
      " [  1. 213. 114.]\n",
      " [  1. 195.  94.]\n",
      " [  1. 216. 146.]\n",
      " [  1. 155.  73.]\n",
      " [  1. 216. 112.]\n",
      " [  1. 185.  76.]\n",
      " [  1. 182.  76.]\n",
      " [  1. 185. 108.]\n",
      " [  1. 216. 146.]\n",
      " [  1. 185. 108.]\n",
      " [  1. 179.  83.]\n",
      " [  1. 225. 112.]\n",
      " [  1. 182.  78.]\n",
      " [  1. 216. 146.]\n",
      " [  1. 155.  81.]\n",
      " [  1. 192.  76.]\n",
      " [  1. 216. 146.]\n",
      " [  1. 213. 119.]\n",
      " [  1. 216. 112.]\n",
      " [  1. 186. 119.]\n",
      " [  1. 186. 103.]\n",
      " [  1. 195.  94.]\n",
      " [  1. 213. 110.]\n",
      " [  1. 204.  87.]\n",
      " [  1. 186. 103.]\n",
      " [  1. 210. 114.]\n",
      " [  1. 186. 119.]\n",
      " [  1. 213. 120.]\n",
      " [  1. 182.  78.]\n",
      " [  1. 186. 108.]\n",
      " [  1. 195.  94.]\n",
      " [  1. 216. 146.]\n",
      " [  1. 216. 112.]\n",
      " [  1. 188.  87.]\n",
      " [  1. 186. 116.]\n",
      " [  1. 185.  81.]\n",
      " [  1. 219. 117.]\n",
      " [  1. 216. 146.]\n",
      " [  1. 213. 128.]\n",
      " [  1. 185.  76.]\n",
      " [  1. 186. 119.]\n",
      " [  1. 213. 108.]\n",
      " [  1. 213. 108.]\n",
      " [  1. 216. 112.]\n",
      " [  1. 204.  87.]\n",
      " [  1. 186. 119.]\n",
      " [  1. 213. 120.]\n",
      " [  1. 186. 119.]\n",
      " [  1. 182.  78.]\n",
      " [  1. 186. 119.]\n",
      " [  1. 182.  78.]\n",
      " [  1. 192.  90.]\n",
      " [  1. 213. 108.]\n",
      " [  1. 201.  85.]\n",
      " [  1. 195.  94.]\n",
      " [  1. 192.  90.]]\n"
     ]
    }
   ],
   "source": [
    "# add a 1 to each sample\n",
    "X_training = np.hstack((np.ones((m_training, 1)),X_training))\n",
    "X_test = np.hstack((np.ones((m_test, 1)),X_test))\n",
    "n = len(X_training)\n",
    "print(X_training)"
   ]
  },
  {
   "cell_type": "markdown",
   "metadata": {},
   "source": [
    "**TO DO** Now complete the function *perceptron*. Since the perceptron does not terminate if the data is not linearly separable, your implementation should return the desired output (see below) if it reached the termination condition seen in class or if a maximum number of iterations have already been run, where 1 iteration corresponds to 1 update of the perceptron weights. In case the termination is reached because the maximum number of iterations have been completed, the implementation should return **the best model** seen up to now.\n",
    "\n",
    "The input parameters to pass are:\n",
    "- $X$: the matrix of input features, one row for each sample\n",
    "- $Y$: the vector of labels for the input features matrix X\n",
    "- $max\\_num\\_iterations$: the maximum number of iterations for running the perceptron\n",
    "\n",
    "The output values are:\n",
    "- $best\\_w$: the vector with the coefficients of the best model\n",
    "- $best\\_error$: the *fraction* of missclassified samples for the best model"
   ]
  },
  {
   "cell_type": "code",
   "execution_count": 93,
   "metadata": {},
   "outputs": [],
   "source": [
    "def perceptron(X, Y, max_num_iterations):\n",
    "    \n",
    "    w = np.zeros(X.shape[1])\n",
    "    best_error = 1\n",
    "    best_w = w\n",
    "    \n",
    "    for t in range(max_num_iterations):\n",
    "        i = np.random.randint(0, X.shape[0])\n",
    "        for j in range(-i, X.shape[0] - i):\n",
    "            ce = Y[j]*np.matmul(w, X[j])\n",
    "            if ce <= 0:\n",
    "                w = w + Y[j]*X[j]\n",
    "                error = sum(np.not_equal(Y, np.sign(np.matmul(X, w))))/X.shape[0]\n",
    "                if error < best_error:\n",
    "                    best_error = error\n",
    "                    best_w = w\n",
    "                break\n",
    "               \n",
    "    return best_w, best_error"
   ]
  },
  {
   "cell_type": "markdown",
   "metadata": {},
   "source": [
    "Now we use the implementation above of the perceptron to learn a model from the training data using 100 iterations and print the error of the best model we have found."
   ]
  },
  {
   "cell_type": "code",
   "execution_count": 94,
   "metadata": {
    "scrolled": true
   },
   "outputs": [
    {
     "name": "stdout",
     "output_type": "stream",
     "text": [
      "0.06923076923076923\n"
     ]
    }
   ],
   "source": [
    "# now run the perceptron for 100 iterations\n",
    "w_found, error = perceptron(X_training,Y_training, 100)\n",
    "\n",
    "print(error)"
   ]
  },
  {
   "cell_type": "markdown",
   "metadata": {},
   "source": [
    "**TO DO** use the best model $w\\_found$ to predict the labels for the test dataset and print the fraction of missclassified samples in the test set (that is an estimate of the true loss)."
   ]
  },
  {
   "cell_type": "code",
   "execution_count": 95,
   "metadata": {},
   "outputs": [
    {
     "name": "stdout",
     "output_type": "stream",
     "text": [
      "0.08461538461538462\n"
     ]
    }
   ],
   "source": [
    "# now use the w_found to make predictions on test dataset\n",
    "num_errors = 0\n",
    "\n",
    "prediction_test = np.dot(X_test, w_found)\n",
    "num_errors = sum(np.not_equal(Y_test, np.sign(prediction_test)))\n",
    "\n",
    "true_loss_estimate = num_errors/m_test\n",
    "# NOTE: you can avoid using num_errors if you prefer, as long as true_loss_estimate is correct\n",
    "print(true_loss_estimate)"
   ]
  },
  {
   "cell_type": "markdown",
   "metadata": {},
   "source": [
    "**TO DO** Copy the code from the last 2 cells above in the cell below and repeat the training with 10000 iterations. Then print the error in the training set and the estimate of the true loss obtained from the test set."
   ]
  },
  {
   "cell_type": "code",
   "execution_count": 96,
   "metadata": {},
   "outputs": [
    {
     "name": "stdout",
     "output_type": "stream",
     "text": [
      "0.05384615384615385\n",
      "0.08461538461538462\n"
     ]
    }
   ],
   "source": [
    "# now run the perceptron for 10000 iterations here!\n",
    "w_found, error = perceptron(X_training,Y_training, 10000)\n",
    "print(error)\n",
    "\n",
    "num_errors = 0.\n",
    "\n",
    "prediction_test = np.dot(X_test, w_found)\n",
    "num_errors = sum(np.not_equal(Y_test, np.sign(prediction_test)))\n",
    "\n",
    "true_loss_estimate = num_errors/m_test\n",
    "print(true_loss_estimate)"
   ]
  },
  {
   "cell_type": "markdown",
   "metadata": {},
   "source": [
    "**TO DO** [Answer the following] What about the difference betweeen the training error and the test error  in terms of fraction of missclassified samples? Explain what you observe. [Write the answer in this cell]\n",
    "\n",
    "**ANSWER**\n",
    "The training error is smaller then the test error, so I think the method easily overfits to the training data. "
   ]
  },
  {
   "cell_type": "markdown",
   "metadata": {},
   "source": [
    "# Logistic Regression\n",
    "Now we use logistic regression, as implemented in Scikit-learn, to predict labels. We will also plot the decision region of logistic regression.\n",
    "\n",
    "We first load the dataset again."
   ]
  },
  {
   "cell_type": "code",
   "execution_count": 58,
   "metadata": {},
   "outputs": [
    {
     "name": "stdout",
     "output_type": "stream",
     "text": [
      "['Position', 'Height cm', 'kg', 'Age']\n"
     ]
    }
   ],
   "source": [
    "filename = 'NBA.csv'\n",
    "NBA = csv.reader(open(filename, newline=''), delimiter=',')\n",
    "\n",
    "header = next(NBA)\n",
    "print(header)\n",
    "\n",
    "dataset = list(NBA)\n",
    "for i in range(len(dataset)):\n",
    "    dataset[i] = [int(x) for x in dataset[i]]\n",
    "    \n",
    "dataset = np.asarray(dataset)\n",
    "\n",
    "X = dataset[:,1:]\n",
    "Y = dataset[:,0]\n",
    "\n",
    "Y = Y*2-1  # set labels to -1, 1 as required by perceptron implementation\n",
    "\n",
    "m = dataset.shape[0]\n",
    "permutation = np.random.permutation(m)\n",
    "\n",
    "X = X[permutation]\n",
    "Y = Y[permutation]"
   ]
  },
  {
   "cell_type": "markdown",
   "metadata": {},
   "source": [
    "**TO DO** As for the previous part, divide the data into training and test (50%-50%) and add a 1 as first component to each sample."
   ]
  },
  {
   "cell_type": "code",
   "execution_count": 59,
   "metadata": {},
   "outputs": [],
   "source": [
    "# Divide in training and test: make sure that your training set\n",
    "# contains at least 10 elements from class 1 and at least 10 elements\n",
    "# from class -1! If it does not, modify the code so to apply more random\n",
    "# permutations (or the same permutation multiple times) until this happens.\n",
    "# IMPORTANT: do not change the random seed.\n",
    "\n",
    "m_training = m//2\n",
    "m_test = m//2\n",
    "\n",
    "X_training = X[: m_training,:]\n",
    "Y_training = Y[: m_training]\n",
    "\n",
    "X_test = X[m_test : m,:]\n",
    "Y_test = Y[m_test:m]\n",
    "\n",
    "# add a 1 as first component to each sample\n",
    "X_training = np.hstack((np.ones((m_training, 1)),X_training))\n",
    "X_test = np.hstack((np.ones((m_test, 1)),X_test))"
   ]
  },
  {
   "cell_type": "markdown",
   "metadata": {},
   "source": [
    "# To define a logistic regression model in Scikit-learn use the instruction\n",
    "\n",
    "$linear\\_model.LogisticRegression(C=1e5)$\n",
    "\n",
    "($C$ is a parameter related to *regularization*, a technique that\n",
    "we will see later in the course. Setting it to a high value is almost\n",
    "as ignoring regularization, so the instruction above corresponds to the\n",
    "logistic regression you have seen in the lecture.)\n",
    "\n",
    "To learn the model you need to use the $fit(...)$ instruction and to predict you need to use the $predict(...)$ function. See the Scikit-learn documentation for how to use it.\n",
    "\n",
    "**TO DO** Define the logistic regression model, then learn the model using the training set and predict on the test set. Then print the fraction of samples missclassified in the training set and in the test set."
   ]
  },
  {
   "cell_type": "code",
   "execution_count": 60,
   "metadata": {},
   "outputs": [
    {
     "name": "stdout",
     "output_type": "stream",
     "text": [
      "Error rate on training set: 0.09999999999999998\n",
      "Error rate on test set: 0.06153846153846154\n"
     ]
    }
   ],
   "source": [
    "# part on logistic regression for 2 classes\n",
    "from sklearn.linear_model import LogisticRegression\n",
    "\n",
    "logreg = LogisticRegression(C=1e5)\n",
    "\n",
    "# learn from training set\n",
    "logreg.fit(X_training, Y_training)\n",
    "\n",
    "# predict on training set\n",
    "logreg.predict(X_training[:])\n",
    "\n",
    "# print the error rate = fraction of missclassified samples\n",
    "error_rate_training = 1 - logreg.score(X_training, Y_training)\n",
    "print(\"Error rate on training set: \"+ str(error_rate_training))\n",
    "\n",
    "# predict on test set\n",
    "logreg.predict(X_test[:])\n",
    "\n",
    "# print the error rate = fraction of missclassified samples\n",
    "error_rate_test = 1 - logreg.score(X_test, Y_test)\n",
    "print(\"Error rate on test set: \" + str(error_rate_test))"
   ]
  },
  {
   "cell_type": "markdown",
   "metadata": {},
   "source": [
    "**TO DO** Now pick two features and restrict the dataset to include only two features, whose indices are specified in the $feature$ vector below. Then split into training and test. Which features are you going to select ?"
   ]
  },
  {
   "cell_type": "code",
   "execution_count": 61,
   "metadata": {},
   "outputs": [],
   "source": [
    "# to make the plot we need to reduce the data to 2D, so we choose two features\n",
    "features_list = ['height', 'weight', 'age']\n",
    "labels_list = ['Center', 'Point guard']\n",
    "\n",
    "index_feature1 = 0\n",
    "index_feature2 = 1\n",
    "features = [index_feature1, index_feature2]\n",
    "\n",
    "feature_name0 = features_list[features[0]]\n",
    "feature_name1 = features_list[features[1]]\n",
    "\n",
    "X_reduced = X[:,features]\n",
    "\n",
    "X_training = X_reduced[: m_training,:]\n",
    "Y_training = Y[ : m_training]\n",
    "\n",
    "X_test = X_reduced[m_test : m,:]\n",
    "Y_test = Y[m_test : m]"
   ]
  },
  {
   "cell_type": "markdown",
   "metadata": {},
   "source": [
    "Now learn a model using the training data."
   ]
  },
  {
   "cell_type": "code",
   "execution_count": 62,
   "metadata": {},
   "outputs": [
    {
     "data": {
      "text/plain": [
       "LogisticRegression(C=100000.0, class_weight=None, dual=False,\n",
       "          fit_intercept=True, intercept_scaling=1, max_iter=100,\n",
       "          multi_class='ovr', n_jobs=1, penalty='l2', random_state=None,\n",
       "          solver='liblinear', tol=0.0001, verbose=0, warm_start=False)"
      ]
     },
     "execution_count": 62,
     "metadata": {},
     "output_type": "execute_result"
    }
   ],
   "source": [
    "# (only for learning from training data)\n",
    "logreg = LogisticRegression(C=1e5)\n",
    "logreg.fit(X_training, Y_training)"
   ]
  },
  {
   "cell_type": "markdown",
   "metadata": {},
   "source": [
    "If everything is ok, the code below uses the model in $logreg$ to plot the decision region for the two features chosen above, with colors denoting the predicted value. It also plots the points (with correct labels) in the training set. It makes a similar plot for the test set."
   ]
  },
  {
   "cell_type": "code",
   "execution_count": 76,
   "metadata": {},
   "outputs": [
    {
     "data": {
      "image/png": "[encoded data removed]",
      "text/plain": [
       "<Figure size 288x216 with 1 Axes>"
      ]
     },
     "metadata": {},
     "output_type": "display_data"
    },
    {
     "data": {
      "image/png": "[encoded data removed]",
      "text/plain": [
       "<Figure size 288x216 with 1 Axes>"
      ]
     },
     "metadata": {},
     "output_type": "display_data"
    }
   ],
   "source": [
    "# Plot the decision boundary. For that, we will assign a color to each\n",
    "# point in the mesh [x_min, x_max]x[y_min, y_max].\n",
    "h = .02  # step size in the mesh\n",
    "x_min, x_max = X_reduced[:, 0].min() - .5, X_reduced[:, 0].max() + .5\n",
    "y_min, y_max = X_reduced[:, 1].min() - .5, X_reduced[:, 1].max() + .5\n",
    "xx, yy = np.meshgrid(np.arange(x_min, x_max, h), np.arange(y_min, y_max, h))\n",
    "\n",
    "Z = logreg.predict(np.c_[xx.ravel(), yy.ravel()])\n",
    "\n",
    "# Put the result into a color plot\n",
    "Z = Z.reshape(xx.shape)\n",
    "\n",
    "plt.figure(1, figsize=(4, 3))\n",
    "plt.pcolormesh(xx, yy, Z, cmap=plt.cm.Paired)\n",
    "\n",
    "# Plot also the training points\n",
    "plt.scatter(X_training[:, 0], X_training[:, 1], c=Y_training, edgecolors='k', cmap=plt.cm.Paired)\n",
    "plt.xlabel(feature_name0)\n",
    "plt.ylabel(feature_name1)\n",
    "\n",
    "plt.xlim(xx.min(), xx.max())\n",
    "plt.ylim(yy.min(), yy.max())\n",
    "plt.xticks(())\n",
    "plt.yticks(())\n",
    "plt.title('Training set')\n",
    "\n",
    "plt.show()\n",
    "\n",
    "# Put the result into a color plot\n",
    "Z = Z.reshape(xx.shape)\n",
    "plt.figure(1, figsize=(4, 3))\n",
    "plt.pcolormesh(xx, yy, Z, cmap=plt.cm.Paired)\n",
    "\n",
    "# Plot also the test points \n",
    "plt.scatter(X_test[:, 0], X_test[:, 1], c=Y_test, edgecolors='k', cmap=plt.cm.Paired, marker='s')\n",
    "plt.xlabel(feature_name0)\n",
    "plt.ylabel(feature_name1)\n",
    "\n",
    "plt.xlim(xx.min(), xx.max())\n",
    "plt.ylim(yy.min(), yy.max())\n",
    "plt.xticks(())\n",
    "plt.yticks(())\n",
    "plt.title('Test set')\n",
    "\n",
    "plt.show()"
   ]
  },
  {
   "cell_type": "code",
   "execution_count": null,
   "metadata": {},
   "outputs": [],
   "source": []
  }
 ],
 "metadata": {
  "anaconda-cloud": {},
  "kernelspec": {
   "display_name": "Python 3",
   "language": "python",
   "name": "python3"
  },
  "language_info": {
   "codemirror_mode": {
    "name": "ipython",
    "version": 3
   },
   "file_extension": ".py",
   "mimetype": "text/x-python",
   "name": "python",
   "nbconvert_exporter": "python",
   "pygments_lexer": "ipython3",
   "version": "3.7.0"
  }
 },
 "nbformat": 4,
 "nbformat_minor": 2
}
