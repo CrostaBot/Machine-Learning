{
 "cells": [
  {
   "cell_type": "markdown",
   "metadata": {},
   "source": [
    "# Polynomial Regression\n",
    "\n",
    "In this exercise you need to use polynomial regression to estimate the height reached by a ball thrown into air. The motion of the ball is controlled by the motion equation with uniform acceleration (in our case given by the gravity) that is a quadratic model. You need to estimate the initial height of the ball (h), the initial speed at which it was launched (v) and the gravity acceleration (g). The equation of the motion is : $y = h + vt + \\frac{1}{2} gt^2$ .\n",
    "In the height.csv file you can find the measured height values (subject to noise) while in time.csv file you can find the corresponding time instants."
   ]
  },
  {
   "cell_type": "code",
   "execution_count": 1,
   "metadata": {},
   "outputs": [],
   "source": [
    "#import the required packages\n",
    "import matplotlib.pyplot as plt\n",
    "import csv\n",
    "from scipy import stats\n",
    "import numpy as np\n",
    "import sklearn as sl\n",
    "from sklearn import linear_model"
   ]
  },
  {
   "cell_type": "code",
   "execution_count": 2,
   "metadata": {},
   "outputs": [
    {
     "name": "stdout",
     "output_type": "stream",
     "text": [
      "(201, 1)\n",
      "(201, 1)\n"
     ]
    }
   ],
   "source": [
    "# load the data from the time.csv (features) and height.csv (measured values) files\n",
    "with open('time.csv', 'r') as f:\n",
    "    reader = csv.reader(f, delimiter=',')\n",
    "    # get all the rows as a list\n",
    "    x = list(reader)\n",
    "    # transform x into numpy array\n",
    "    x = np.array(x).astype(float)\n",
    "    \n",
    "with open('height.csv', 'r') as f2:\n",
    "    reader2 = csv.reader(f2, delimiter=',')\n",
    "    # get all the rows as a list\n",
    "    y = list(reader2)\n",
    "    # transform data into numpy array\n",
    "    y = np.array(y).astype(float)\n",
    "    \n",
    "print(x.shape)\n",
    "print(y.shape)"
   ]
  },
  {
   "cell_type": "code",
   "execution_count": 3,
   "metadata": {},
   "outputs": [
    {
     "name": "stdout",
     "output_type": "stream",
     "text": [
      "slope (linregress):  0.22423930932968666   intercept (lnregress): 4.2153751087039835\n",
      "correlation coefficient: 0.08764757852933583\n"
     ]
    }
   ],
   "source": [
    "# try to perform a linear interpolation (it does not work properly, why ?)\n",
    "# you can use stats.linregress or linear_model.LinearRegression\n",
    "slope, intercept, r_value, p_value, std_err = stats.linregress(x[:,0], y[:,0])\n",
    "\n",
    "print('slope (linregress): ', slope,'  intercept (lnregress):', intercept)\n",
    "print('correlation coefficient:', r_value)"
   ]
  },
  {
   "cell_type": "code",
   "execution_count": 4,
   "metadata": {},
   "outputs": [
    {
     "name": "stdout",
     "output_type": "stream",
     "text": [
      "initial position:  [0.96499498]   initial speed: [10.0243804]  gravity acceleration: [-9.80014109]\n",
      "correlation coefficient: 0.9977953125219581\n"
     ]
    }
   ],
   "source": [
    "# use polynomial regression (the feature vectors have three components:\n",
    "# they contain all 1s (for bias), the input data $x$ and their squared values $x^2$\n",
    "# for the regression you can use linear_model.LinearRegression\n",
    "dataX = np.zeros([201,3])\n",
    "\n",
    "dataX[:,0] = 1\n",
    "dataX[:,1] = x[:,0]\n",
    "dataX[:,2] = np.power(x[:,0], 2)\n",
    "\n",
    "reg = sl.linear_model.LinearRegression().fit(dataX, y)\n",
    "\n",
    "h = reg.intercept_\n",
    "v = reg.coef_.transpose()[1]\n",
    "g = 2 * reg.coef_.transpose()[2]\n",
    "sc = reg.score(dataX, y)\n",
    "\n",
    "print('initial position: ', h,'  initial speed:', v, ' gravity acceleration:', g )\n",
    "# reg.score produces the square of the correlation coefficient\n",
    "print('correlation coefficient:', np.sqrt(sc))"
   ]
  },
  {
   "cell_type": "markdown",
   "metadata": {},
   "source": [
    "# Question\n",
    "\n",
    "Explain what do you conclude looking at the linear and polynomial fitting."
   ]
  },
  {
   "cell_type": "code",
   "execution_count": 5,
   "metadata": {},
   "outputs": [
    {
     "data": {
      "image/png": "[encoded data removed]",
      "text/plain": [
       "<Figure size 432x288 with 1 Axes>"
      ]
     },
     "metadata": {
      "needs_background": "light"
     },
     "output_type": "display_data"
    }
   ],
   "source": [
    "# plot the input data and the estimated models\n",
    "plt.plot(x, y, 'o', label = 'Original data')\n",
    "plt.plot(x[:, 0], intercept + slope * x[:, 0], 'r', label = 'Linear Regression')\n",
    "plt.plot(x, h + v * dataX[:, 1]+ 0.5 * g * dataX[:, 2], 'y', label = 'Polynomial Regression')\n",
    "plt.legend()\n",
    "plt.show()"
   ]
  },
  {
   "cell_type": "markdown",
   "metadata": {
    "collapsed": true
   },
   "source": [
    "**Answer**:\n",
    "We can compute every data with linear regression, but with some types of data the results is wrong. As in this case we have to compute with polynomial regression because we have a parabola."
   ]
  }
 ],
 "metadata": {
  "kernelspec": {
   "display_name": "Python 3",
   "language": "python",
   "name": "python3"
  },
  "language_info": {
   "codemirror_mode": {
    "name": "ipython",
    "version": 3
   },
   "file_extension": ".py",
   "mimetype": "text/x-python",
   "name": "python",
   "nbconvert_exporter": "python",
   "pygments_lexer": "ipython3",
   "version": "3.7.0"
  }
 },
 "nbformat": 4,
 "nbformat_minor": 2
}
